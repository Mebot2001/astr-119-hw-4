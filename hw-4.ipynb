{
 "cells": [
  {
   "cell_type": "code",
   "execution_count": 1,
   "metadata": {},
   "outputs": [],
   "source": [
    "%matplotlib inline\n",
    "import numpy as np\n",
    "import matplotlib.pyplot as plt"
   ]
  },
  {
   "cell_type": "code",
   "execution_count": 2,
   "metadata": {},
   "outputs": [],
   "source": [
    "def function(x):\n",
    "    a = 1.01\n",
    "    b = -3.04\n",
    "    c = 2.07\n",
    "    return a*x**2 + b*x + c"
   ]
  },
  {
   "cell_type": "code",
   "execution_count": 3,
   "metadata": {},
   "outputs": [],
   "source": [
    "def check_initial_values(f, x_min, x_max, tol):\n",
    "    \n",
    "    y_min = f(x_min)\n",
    "    y_max = f(x_max)\n",
    "    \n",
    "    if(y_min * y_max > 0.0):\n",
    "        s = \"No zero crossing round in this range = x:[%f,%f]\" % (x_min, x_max)\n",
    "        print(s)\n",
    "        s = \"f(%f) = %f, f(%f) = %f\" % (x_min, y_min, x_max, y_max)\n",
    "        print(s)\n",
    "        return 0\n",
    "    \n",
    "    if(np.fabs(y_min)<tol):\n",
    "        return 1\n",
    "    \n",
    "    if(np.fabs(y_max)<tol):\n",
    "        return 2\n",
    "    \n",
    "    return 3"
   ]
  },
  {
   "cell_type": "code",
   "execution_count": 4,
   "metadata": {},
   "outputs": [],
   "source": [
    "def bisection_root_finding(f, x_min_start, x_max_start, tol):\n",
    "    \n",
    "    x_min = x_min_start\n",
    "    x_max = x_max_start\n",
    "    x_mid = 0.0\n",
    "    \n",
    "    y_min = f(x_min)\n",
    "    y_max = f(x_max)\n",
    "    y_mid = 0.0\n",
    "    \n",
    "    imax = 100000\n",
    "    i = 0\n",
    "    \n",
    "    flag = check_initial_values(f, x_min, x_max, tol)\n",
    "    if(flag==0):\n",
    "        print(\"Error in bisection_root_finding\")\n",
    "        raise ValueError(\"Initial values invalid\", x_min, x_max)\n",
    "    elif(flag==1):\n",
    "        return x_min\n",
    "    elif(flag==2):\n",
    "\n",
    "        return x_max\n",
    "    \n",
    "    flag = 1\n",
    "    \n",
    "    \n",
    "    while(flag):\n",
    "        \n",
    "        x_mid = 0.5 * (x_min + x_max)\n",
    "        y_mid = f(x_mid)\n",
    "        \n",
    "        if(np.fabs(y_mid)<tol):\n",
    "            flag = 0\n",
    "            \n",
    "        else:\n",
    "            \n",
    "            if(f(x_min) * f(x_mid) > 0):\n",
    "                \n",
    "                x_min = x_mid\n",
    "            \n",
    "            else:\n",
    "                \n",
    "                x_max = x_mid\n",
    "        \n",
    "#        print(x_min, f(x_min), x_max, f(x_max))\n",
    "        \n",
    "        i += 1\n",
    "        \n",
    "        if(i>=imax):\n",
    "            print(\"Exceeded max number of iterations =\", i)\n",
    "            s = \"Min bracket f(%f) = %15.4e\" % (x_min, f(x_min))\n",
    "            print(s)\n",
    "            s = \"Min bracket f(%f) = %15.4e\" % (x_max, f(x_max))\n",
    "            print(s)\n",
    "            s = \"Min bracket f(%f) = %15.4e\" % (x_mid, f(x_mid))\n",
    "            print(s)\n",
    "            raise StopIteration(\"Stopping iterations after \",i)\n",
    "    \n",
    "    \n",
    "    return x_mid, i, x_min_start, x_max_start"
   ]
  },
  {
   "cell_type": "code",
   "execution_count": 5,
   "metadata": {},
   "outputs": [
    {
     "name": "stdout",
     "output_type": "stream",
     "text": [
      "0.4 1.0155999999999996\n",
      "1.2 -0.12360000000000015\n",
      "Root found with y(1.040869) = 0.000000 after 14 iterations.\n"
     ]
    }
   ],
   "source": [
    "x_min = 0.4\n",
    "x_max = 1.2\n",
    "\n",
    "tolerance = 1.0e-6\n",
    "\n",
    "print(x_min,function(x_min))\n",
    "print(x_max,function(x_max))\n",
    "\n",
    "x_root1 = bisection_root_finding(function, x_min, x_max, tolerance)[0]\n",
    "\n",
    "i1 = bisection_root_finding(function, x_min, x_max, tolerance)[1]\n",
    "\n",
    "y_root1 = function(x_root1)\n",
    "\n",
    "s1 = \"Root found with y(%f) = %f after %i iterations.\" % (x_root1, y_root1, i1)\n",
    "print(s1)\n",
    "\n",
    "x_min1 = bisection_root_finding(function, x_min, x_max, tolerance)[2]\n",
    "x_max1 = bisection_root_finding(function, x_min, x_max, tolerance)[3]"
   ]
  },
  {
   "cell_type": "code",
   "execution_count": 6,
   "metadata": {},
   "outputs": [
    {
     "name": "stdout",
     "output_type": "stream",
     "text": [
      "1.7 -0.17910000000000048\n",
      "2.4 0.5916000000000001\n",
      "Root found with y(1.969032) = 0.000000 after 17 iterations.\n"
     ]
    }
   ],
   "source": [
    "x_min = 1.7\n",
    "x_max = 2.4\n",
    "\n",
    "tolerance = 1.0e-6\n",
    "\n",
    "print(x_min,function(x_min))\n",
    "print(x_max,function(x_max))\n",
    "\n",
    "x_root2 = bisection_root_finding(function, x_min, x_max, tolerance)[0]\n",
    "\n",
    "i2 = bisection_root_finding(function, x_min, x_max, tolerance)[1]\n",
    "\n",
    "y_root2 = function(x_root2)\n",
    "\n",
    "s2 = \"Root found with y(%f) = %f after %i iterations.\" % (x_root2, y_root2, i2)\n",
    "print(s2)\n",
    "\n",
    "x_min2 = bisection_root_finding(function, x_min, x_max, tolerance)[2]\n",
    "x_max2 = bisection_root_finding(function, x_min, x_max, tolerance)[3]"
   ]
  },
  {
   "cell_type": "code",
   "execution_count": 7,
   "metadata": {},
   "outputs": [
    {
     "name": "stdout",
     "output_type": "stream",
     "text": [
      "Root found with y(1.040869) = 0.000000 after 14 iterations.\n",
      "Root found with y(1.969032) = 0.000000 after 17 iterations.\n"
     ]
    }
   ],
   "source": [
    "print(s1)\n",
    "print(s2)"
   ]
  },
  {
   "cell_type": "code",
   "execution_count": 8,
   "metadata": {
    "scrolled": true
   },
   "outputs": [
    {
     "name": "stdout",
     "output_type": "stream",
     "text": [
      "The bracketing ranges are x:[0,1] and x:[1,2]\n",
      "Root found with y(1.040869) = 0.000000 after 14 iterations. Root found with y(1.969032) = 0.000000 after 17 iterations.\n"
     ]
    },
    {
     "data": {
      "image/png": "[encoded data removed]",
      "text/plain": [
       "<Figure size 432x288 with 1 Axes>"
      ]
     },
     "metadata": {
      "needs_background": "light"
     },
     "output_type": "display_data"
    }
   ],
   "source": [
    "x = np.linspace(0, 3, 1000)\n",
    "y = function(x)\n",
    "y2 = 0 * x\n",
    "\n",
    "plt.plot(x, y, label='f(x)')\n",
    "plt.plot(x, y2, color='black')\n",
    "\n",
    "plt.plot(x_root1, y_root1, 'o', color='#000000')\n",
    "plt.plot(x_root2, y_root2, 'o', color='#000000')\n",
    "\n",
    "plt.plot(x_min1, function(x_min1), 'o', color='#FF0000')\n",
    "plt.plot(x_max1, function(x_max1), 'o', color='#FF0000')\n",
    "\n",
    "plt.plot(x_min2, function(x_min2), 'o', color='#0000FF')\n",
    "plt.plot(x_max2, function(x_max2), 'o', color='#0000FF')\n",
    "\n",
    "plt.xlabel('x')\n",
    "plt.ylabel('y')\n",
    "\n",
    "plt.xlim(0, 3)\n",
    "plt.ylim(-0.5, 2.1)\n",
    "\n",
    "s = \"The bracketing ranges are x:[%i,%i] and x:[%i,%i]\" %(x_min1, x_max1, x_min2, x_max2)\n",
    "print(s)\n",
    "print(s1, s2)"
   ]
  },
  {
   "cell_type": "code",
   "execution_count": null,
   "metadata": {},
   "outputs": [],
   "source": []
  }
 ],
 "metadata": {
  "kernelspec": {
   "display_name": "Python 3",
   "language": "python",
   "name": "python3"
  },
  "language_info": {
   "codemirror_mode": {
    "name": "ipython",
    "version": 3
   },
   "file_extension": ".py",
   "mimetype": "text/x-python",
   "name": "python",
   "nbconvert_exporter": "python",
   "pygments_lexer": "ipython3",
   "version": "3.8.6"
  }
 },
 "nbformat": 4,
 "nbformat_minor": 4
}
